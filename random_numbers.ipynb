{
 "cells": [
  {
   "cell_type": "code",
   "execution_count": 1,
   "id": "770788be",
   "metadata": {},
   "outputs": [],
   "source": [
    "# Import the random module.\n",
    "import random"
   ]
  },
  {
   "cell_type": "code",
   "execution_count": 2,
   "id": "b0646aa2",
   "metadata": {},
   "outputs": [
    {
     "data": {
      "text/plain": [
       "-32"
      ]
     },
     "execution_count": 2,
     "metadata": {},
     "output_type": "execute_result"
    }
   ],
   "source": [
    "random.randint(-90, 90)"
   ]
  },
  {
   "cell_type": "code",
   "execution_count": 3,
   "id": "94319171",
   "metadata": {},
   "outputs": [
    {
     "data": {
      "text/plain": [
       "0.05855596652253181"
      ]
     },
     "execution_count": 3,
     "metadata": {},
     "output_type": "execute_result"
    }
   ],
   "source": [
    "random.random()\n"
   ]
  },
  {
   "cell_type": "raw",
   "id": "c475c63a",
   "metadata": {},
   "source": [
    "x = 1\n",
    "latitudes = []\n",
    "while x < 11:\n",
    "    random_lat = random.randint(-90, 89) + random.random()\n",
    "    latitudes.append(random_lat)\n",
    "    x += 1"
   ]
  },
  {
   "cell_type": "code",
   "execution_count": 4,
   "id": "93d33724",
   "metadata": {},
   "outputs": [
    {
     "data": {
      "text/plain": [
       "74"
      ]
     },
     "execution_count": 4,
     "metadata": {},
     "output_type": "execute_result"
    }
   ],
   "source": [
    "random.randrange(-90, 90, step=1)"
   ]
  },
  {
   "cell_type": "raw",
   "id": "e2aea0a1",
   "metadata": {},
   "source": [
    "random.randrange(-90, 90, step=3)\n"
   ]
  },
  {
   "cell_type": "code",
   "execution_count": 5,
   "id": "d8481af0",
   "metadata": {},
   "outputs": [
    {
     "data": {
      "text/plain": [
       "27.274262724402917"
      ]
     },
     "execution_count": 5,
     "metadata": {},
     "output_type": "execute_result"
    }
   ],
   "source": [
    "random.uniform(-90, 90)"
   ]
  },
  {
   "cell_type": "code",
   "execution_count": 6,
   "id": "61eb935e",
   "metadata": {},
   "outputs": [],
   "source": [
    "# Import the NumPy module.\n",
    "import numpy as np"
   ]
  },
  {
   "cell_type": "code",
   "execution_count": 7,
   "id": "5e61d10c",
   "metadata": {},
   "outputs": [
    {
     "data": {
      "text/plain": [
       "26.78762373123726"
      ]
     },
     "execution_count": 7,
     "metadata": {},
     "output_type": "execute_result"
    }
   ],
   "source": [
    "np.random.uniform(-90.000, 90.000)"
   ]
  },
  {
   "cell_type": "code",
   "execution_count": 8,
   "id": "1d134f93",
   "metadata": {},
   "outputs": [
    {
     "data": {
      "text/plain": [
       "array([ -8.35406423, -52.894481  ,  43.26220261, -26.97056713,\n",
       "        62.62266634, -53.90401049,   5.794776  , -86.74345608,\n",
       "        27.10545219, -71.25207934,  -4.01484057,  20.65561147,\n",
       "       -81.66458512, -12.05220641,  -3.54089706,  58.69605044,\n",
       "        73.08075211, -28.85154975,  69.16685323,  81.88168194,\n",
       "       -60.72252288, -72.84106799, -27.3824704 , -75.25683907,\n",
       "       -23.73947271,  22.31968684, -79.65827119, -70.60037745,\n",
       "         3.66079983, -71.98562894,  56.35525331, -43.20278773,\n",
       "        73.49727131,  -2.79101297, -79.84992962, -81.13789103,\n",
       "        66.70657803,  19.7425226 ,  28.51052806,  37.26091725,\n",
       "        22.06677224,  11.00820449,  -4.07989558,  38.15317847,\n",
       "       -77.43043678, -18.33912684, -36.27133629,  23.46422648,\n",
       "        48.79524171, -12.93828095])"
      ]
     },
     "execution_count": 8,
     "metadata": {},
     "output_type": "execute_result"
    }
   ],
   "source": [
    "np.random.uniform(-90.000, 90.000, size=50)"
   ]
  },
  {
   "cell_type": "code",
   "execution_count": 9,
   "id": "c6be0529",
   "metadata": {},
   "outputs": [],
   "source": [
    "# Import timeit.\n",
    "import timeit"
   ]
  },
  {
   "cell_type": "code",
   "execution_count": 10,
   "id": "87862acf",
   "metadata": {},
   "outputs": [
    {
     "name": "stdout",
     "output_type": "stream",
     "text": [
      "18.4 µs ± 385 ns per loop (mean ± std. dev. of 7 runs, 100000 loops each)\n"
     ]
    }
   ],
   "source": [
    "%timeit np.random.uniform(-90.000, 90.000, size=1500)"
   ]
  },
  {
   "cell_type": "code",
   "execution_count": 11,
   "id": "9d75a121",
   "metadata": {},
   "outputs": [
    {
     "name": "stdout",
     "output_type": "stream",
     "text": [
      "3.06 ms ± 218 µs per loop (mean ± std. dev. of 7 runs, 100 loops each)\n"
     ]
    }
   ],
   "source": [
    "def latitudes(size):\n",
    "    latitudes = []\n",
    "    x = 0\n",
    "    while x < (size):\n",
    "        random_lat = random.randint(-90, 90) + random.random()\n",
    "        latitudes.append(random_lat)\n",
    "        x += 1\n",
    "    return latitudes\n",
    "# Call the function with 1500.\n",
    "%timeit latitudes(1500)"
   ]
  },
  {
   "cell_type": "code",
   "execution_count": null,
   "id": "45b510ee",
   "metadata": {},
   "outputs": [],
   "source": []
  }
 ],
 "metadata": {
  "kernelspec": {
   "display_name": "pythondata",
   "language": "python",
   "name": "pythondata"
  },
  "language_info": {
   "codemirror_mode": {
    "name": "ipython",
    "version": 3
   },
   "file_extension": ".py",
   "mimetype": "text/x-python",
   "name": "python",
   "nbconvert_exporter": "python",
   "pygments_lexer": "ipython3",
   "version": "3.7.11"
  }
 },
 "nbformat": 4,
 "nbformat_minor": 5
}
